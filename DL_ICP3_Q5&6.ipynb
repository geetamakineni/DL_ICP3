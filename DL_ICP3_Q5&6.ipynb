{
  "nbformat": 4,
  "nbformat_minor": 0,
  "metadata": {
    "colab": {
      "name": "DL_ICP3_Q5&6.ipynb",
      "provenance": [],
      "collapsed_sections": []
    },
    "kernelspec": {
      "name": "python3",
      "display_name": "Python 3"
    }
  },
  "cells": [
    {
      "cell_type": "code",
      "metadata": {
        "id": "GRCvfqdEQ5Pa",
        "colab_type": "code",
        "colab": {}
      },
      "source": [
        "from keras.models import Sequential\n",
        "from keras import layers\n",
        "from keras.preprocessing.text import Tokenizer\n",
        "import pandas as pd\n",
        "from sklearn import preprocessing\n",
        "from sklearn.datasets import fetch_20newsgroups\n",
        "from sklearn.model_selection import train_test_split\n",
        "from keras.preprocessing.sequence import pad_sequences\n",
        "from keras.layers import Embedding, Flatten\n",
        "import matplotlib.pyplot as plt\n"
      ],
      "execution_count": 0,
      "outputs": []
    },
    {
      "cell_type": "code",
      "metadata": {
        "id": "TJoNyVFEQ5wD",
        "colab_type": "code",
        "colab": {}
      },
      "source": [
        "cats = ['alt.atheism', 'sci.space']\n",
        "df = fetch_20newsgroups(subset='train', shuffle=True, categories=cats)\n",
        "sentences=df.data\n",
        "y=df.target"
      ],
      "execution_count": 0,
      "outputs": []
    },
    {
      "cell_type": "code",
      "metadata": {
        "id": "WoDZ9OX_REeG",
        "colab_type": "code",
        "colab": {}
      },
      "source": [
        "le = preprocessing.LabelEncoder()\n",
        "y = le.fit_transform(y)"
      ],
      "execution_count": 0,
      "outputs": []
    },
    {
      "cell_type": "code",
      "metadata": {
        "id": "8wfA7zlbRGva",
        "colab_type": "code",
        "colab": {}
      },
      "source": [
        "#tokenizing data\n",
        "tokenizer = Tokenizer(num_words=2000)\n",
        "tokenizer.fit_on_texts(sentences)\n",
        "max_review_len = max([len(s.split()) for s in sentences])\n",
        "vocab_size = len(tokenizer.word_index)+1\n",
        "X_train, X_test, y_train, y_test = train_test_split(sentences, y, test_size=0.25, random_state=1000)\n",
        "X_train_tokens = tokenizer.texts_to_sequences(X_train)\n",
        "X_test_tokens = tokenizer.texts_to_sequences(X_test)\n",
        "padded_train = pad_sequences(X_train_tokens,maxlen=max_review_len)\n",
        "paded_test = pad_sequences(X_test_tokens,maxlen=max_review_len)"
      ],
      "execution_count": 0,
      "outputs": []
    },
    {
      "cell_type": "code",
      "metadata": {
        "id": "UcveeysNRLLR",
        "colab_type": "code",
        "outputId": "769dd8d3-2724-4fa5-a855-f796ca7cc782",
        "colab": {
          "base_uri": "https://localhost:8080/",
          "height": 263
        }
      },
      "source": [
        "model = Sequential()\n",
        "model.add(Embedding(vocab_size, 50, input_length=max_review_len))\n",
        "model.add(Flatten())\n",
        "model.add(layers.Dense(300, activation='relu'))\n",
        "model.add(layers.Dense(1, activation='sigmoid')) #changing number of neuron to 2 as we have only two labels Pos and Neg\n",
        "model.compile(loss='binary_crossentropy',optimizer='adam',metrics=['acc'])\n",
        "history=model.fit(padded_train,y_train, epochs=5, verbose=True, validation_data=(paded_test,y_test), batch_size=256)"
      ],
      "execution_count": 0,
      "outputs": [
        {
          "output_type": "stream",
          "text": [
            "/usr/local/lib/python3.6/dist-packages/tensorflow/python/framework/indexed_slices.py:434: UserWarning: Converting sparse IndexedSlices to a dense Tensor of unknown shape. This may consume a large amount of memory.\n",
            "  \"Converting sparse IndexedSlices to a dense Tensor of unknown shape. \"\n"
          ],
          "name": "stderr"
        },
        {
          "output_type": "stream",
          "text": [
            "Train on 804 samples, validate on 269 samples\n",
            "Epoch 1/5\n",
            "804/804 [==============================] - 21s 27ms/step - loss: 7.9309 - acc: 0.5112 - val_loss: 3.1393 - val_acc: 0.5911\n",
            "Epoch 2/5\n",
            "804/804 [==============================] - 21s 26ms/step - loss: 3.2429 - acc: 0.5448 - val_loss: 6.7969 - val_acc: 0.4089\n",
            "Epoch 3/5\n",
            "804/804 [==============================] - 21s 26ms/step - loss: 4.2311 - acc: 0.4714 - val_loss: 3.9767 - val_acc: 0.5948\n",
            "Epoch 4/5\n",
            "804/804 [==============================] - 20s 25ms/step - loss: 2.9334 - acc: 0.5037 - val_loss: 3.8014 - val_acc: 0.4089\n",
            "Epoch 5/5\n",
            "804/804 [==============================] - 21s 26ms/step - loss: 2.0004 - acc: 0.4900 - val_loss: 2.0188 - val_acc: 0.5948\n"
          ],
          "name": "stdout"
        }
      ]
    },
    {
      "cell_type": "markdown",
      "metadata": {
        "id": "lmg18xGVBOHV",
        "colab_type": "text"
      },
      "source": [
        "Checking Sample Data and Predicted Data"
      ]
    },
    {
      "cell_type": "code",
      "metadata": {
        "id": "j3GsqTNXXD09",
        "colab_type": "code",
        "colab": {}
      },
      "source": [
        "x=model.predict_classes(paded_test[[4],:])"
      ],
      "execution_count": 0,
      "outputs": []
    },
    {
      "cell_type": "code",
      "metadata": {
        "id": "piR8Kn3XAghW",
        "colab_type": "code",
        "outputId": "f41d567b-590d-4a5b-b8fc-639060e8954a",
        "colab": {
          "base_uri": "https://localhost:8080/",
          "height": 35
        }
      },
      "source": [
        "print(\"Actual Prediction\",y_test[4],\"Predicted Prediction\",x)"
      ],
      "execution_count": 0,
      "outputs": [
        {
          "output_type": "stream",
          "text": [
            "Actual Prediction 1 Predicted Prediction [[1]]\n"
          ],
          "name": "stdout"
        }
      ]
    },
    {
      "cell_type": "markdown",
      "metadata": {
        "id": "btAh0kv9BZoJ",
        "colab_type": "text"
      },
      "source": [
        "Ploting Using Tensor Flow"
      ]
    },
    {
      "cell_type": "code",
      "metadata": {
        "id": "ARp1FtiFA4KM",
        "colab_type": "code",
        "outputId": "98ab0e81-c795-4f8e-b35e-6eeb3e31e59b",
        "colab": {
          "base_uri": "https://localhost:8080/",
          "height": 208
        }
      },
      "source": [
        "from time import time\n",
        "from keras.callbacks import TensorBoard\n",
        "tensorboard = TensorBoard(log_dir=\"/content/drive/My Drive/Colab Notebooks/logs/{}\".format(time()))\n",
        "model.fit(padded_train,y_train,verbose=1,callbacks=[tensorboard], epochs=5)"
      ],
      "execution_count": 0,
      "outputs": [
        {
          "output_type": "stream",
          "text": [
            "Epoch 1/5\n",
            "804/804 [==============================] - 53s 66ms/step - loss: 0.6377 - acc: 0.7301\n",
            "Epoch 2/5\n",
            "804/804 [==============================] - 52s 65ms/step - loss: 0.1199 - acc: 0.9863\n",
            "Epoch 3/5\n",
            "804/804 [==============================] - 52s 64ms/step - loss: 0.0518 - acc: 0.9938\n",
            "Epoch 4/5\n",
            "804/804 [==============================] - 52s 64ms/step - loss: 0.0270 - acc: 0.9988\n",
            "Epoch 5/5\n",
            "804/804 [==============================] - 52s 64ms/step - loss: 0.0153 - acc: 1.0000\n"
          ],
          "name": "stdout"
        },
        {
          "output_type": "execute_result",
          "data": {
            "text/plain": [
              "<keras.callbacks.callbacks.History at 0x7fd15edd30b8>"
            ]
          },
          "metadata": {
            "tags": []
          },
          "execution_count": 19
        }
      ]
    },
    {
      "cell_type": "code",
      "metadata": {
        "id": "k-2t3PLZA42l",
        "colab_type": "code",
        "outputId": "8045c052-32e7-41ea-9315-742bee7b9205",
        "colab": {
          "base_uri": "https://localhost:8080/",
          "height": 35
        }
      },
      "source": [
        "from google.colab import drive\n",
        "drive.mount('/content/drive')"
      ],
      "execution_count": 0,
      "outputs": [
        {
          "output_type": "stream",
          "text": [
            "Drive already mounted at /content/drive; to attempt to forcibly remount, call drive.mount(\"/content/drive\", force_remount=True).\n"
          ],
          "name": "stdout"
        }
      ]
    }
  ]
}