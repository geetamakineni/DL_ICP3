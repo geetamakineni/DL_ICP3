{
  "nbformat": 4,
  "nbformat_minor": 0,
  "metadata": {
    "colab": {
      "name": "DL_ICP3_Q1.ipynb",
      "provenance": [],
      "collapsed_sections": [],
      "toc_visible": true
    },
    "kernelspec": {
      "name": "python3",
      "display_name": "Python 3"
    }
  },
  "cells": [
    {
      "cell_type": "code",
      "metadata": {
        "id": "pfYDB7jwOI4V",
        "colab_type": "code",
        "colab": {}
      },
      "source": [
        "from keras.models import Sequential\n",
        "from keras import layers\n",
        "from keras.preprocessing.text import Tokenizer\n",
        "import pandas as pd\n",
        "from sklearn import preprocessing\n",
        "from sklearn.model_selection import train_test_split"
      ],
      "execution_count": 0,
      "outputs": []
    },
    {
      "cell_type": "code",
      "metadata": {
        "id": "bL2nhGDcOMyC",
        "colab_type": "code",
        "colab": {
          "base_uri": "https://localhost:8080/",
          "height": 150
        },
        "outputId": "8a978af7-1a50-4be1-ba0e-0626899b5c18"
      },
      "source": [
        "df = pd.read_csv('imdb_master.csv',encoding='latin-1')\n",
        "print(df.head())\n"
      ],
      "execution_count": 14,
      "outputs": [
        {
          "output_type": "stream",
          "text": [
            "   Unnamed: 0  type  ... label         file\n",
            "0           0  test  ...   neg      0_2.txt\n",
            "1           1  test  ...   neg  10000_4.txt\n",
            "2           2  test  ...   neg  10001_1.txt\n",
            "3           3  test  ...   neg  10002_3.txt\n",
            "4           4  test  ...   neg  10003_3.txt\n",
            "\n",
            "[5 rows x 5 columns]\n"
          ],
          "name": "stdout"
        }
      ]
    },
    {
      "cell_type": "markdown",
      "metadata": {
        "id": "l28rOFsvQEM-",
        "colab_type": "text"
      },
      "source": [
        "# Dropping Unnecessary labelfrom dataset\n"
      ]
    },
    {
      "cell_type": "code",
      "metadata": {
        "id": "JKbWBvYzQDLs",
        "colab_type": "code",
        "colab": {}
      },
      "source": [
        "df = df[df['label']!='unsup']\n",
        "sentences = df['review'].values\n",
        "y = df['label'].values"
      ],
      "execution_count": 0,
      "outputs": []
    },
    {
      "cell_type": "markdown",
      "metadata": {
        "id": "FRH4mpUcOXU_",
        "colab_type": "text"
      },
      "source": [
        "#Tokenizing data"
      ]
    },
    {
      "cell_type": "code",
      "metadata": {
        "id": "A37lIFx7OS-q",
        "colab_type": "code",
        "colab": {}
      },
      "source": [
        "tokenizer = Tokenizer(num_words=2000)\n"
      ],
      "execution_count": 0,
      "outputs": []
    },
    {
      "cell_type": "markdown",
      "metadata": {
        "id": "CJdEwIRsOa4Z",
        "colab_type": "text"
      },
      "source": [
        "\n",
        "#Getting the vocabulary of data\n"
      ]
    },
    {
      "cell_type": "code",
      "metadata": {
        "id": "hXewXRljOfrD",
        "colab_type": "code",
        "colab": {}
      },
      "source": [
        "sentences = tokenizer.texts_to_matrix(sentences)"
      ],
      "execution_count": 0,
      "outputs": []
    },
    {
      "cell_type": "markdown",
      "metadata": {
        "id": "j8wlY_JdOr6F",
        "colab_type": "text"
      },
      "source": [
        "Label Encoder"
      ]
    },
    {
      "cell_type": "code",
      "metadata": {
        "id": "UxfIqZpEOoFn",
        "colab_type": "code",
        "colab": {}
      },
      "source": [
        "le = preprocessing.LabelEncoder()\n",
        "y = le.fit_transform(y)\n",
        "X_train, X_test, y_train, y_test = train_test_split(sentences, y, test_size=0.25, random_state=1000)"
      ],
      "execution_count": 0,
      "outputs": []
    },
    {
      "cell_type": "code",
      "metadata": {
        "id": "TRy4ThvcOwt3",
        "colab_type": "code",
        "colab": {
          "base_uri": "https://localhost:8080/",
          "height": 200
        },
        "outputId": "4ce4f282-4a2f-4805-8d3b-c7b9af8a7c98"
      },
      "source": [
        "model = Sequential()\n",
        "model.add(layers.Dense(300,input_dim= 2000, activation='relu'))\n",
        "model.add(layers.Dense(2, activation='sigmoid')) #changing number of neuron to 2 as we have only two labels Pos and Neg\n",
        "model.compile(loss='sparse_categorical_crossentropy',optimizer='adam',metrics=['acc'])\n",
        "history=model.fit(X_train,y_train, epochs=5, verbose=True, validation_data=(X_test,y_test), batch_size=256)"
      ],
      "execution_count": 21,
      "outputs": [
        {
          "output_type": "stream",
          "text": [
            "Train on 23976 samples, validate on 7993 samples\n",
            "Epoch 1/5\n",
            "23976/23976 [==============================] - 2s 93us/step - loss: 0.6922 - acc: 0.5309 - val_loss: 0.6915 - val_acc: 0.5345\n",
            "Epoch 2/5\n",
            "23976/23976 [==============================] - 2s 90us/step - loss: 0.6914 - acc: 0.5314 - val_loss: 0.6910 - val_acc: 0.5345\n",
            "Epoch 3/5\n",
            "23976/23976 [==============================] - 2s 92us/step - loss: 0.6912 - acc: 0.5314 - val_loss: 0.6908 - val_acc: 0.5345\n",
            "Epoch 4/5\n",
            "23976/23976 [==============================] - 2s 89us/step - loss: 0.6912 - acc: 0.5314 - val_loss: 0.6908 - val_acc: 0.5345\n",
            "Epoch 5/5\n",
            "23976/23976 [==============================] - 2s 90us/step - loss: 0.6912 - acc: 0.5314 - val_loss: 0.6908 - val_acc: 0.5345\n"
          ],
          "name": "stdout"
        }
      ]
    },
    {
      "cell_type": "code",
      "metadata": {
        "id": "NFyGTw50Z3bf",
        "colab_type": "code",
        "colab": {
          "base_uri": "https://localhost:8080/",
          "height": 50
        },
        "outputId": "ec1e1f44-e2f1-462d-c6e8-916d10f743ab"
      },
      "source": [
        "test_loss, test_acc = model.evaluate(X_test, y_test)\n",
        "print(test_acc)"
      ],
      "execution_count": 20,
      "outputs": [
        {
          "output_type": "stream",
          "text": [
            "7993/7993 [==============================] - 0s 60us/step\n",
            "0.5344676375389099\n"
          ],
          "name": "stdout"
        }
      ]
    }
  ]
}